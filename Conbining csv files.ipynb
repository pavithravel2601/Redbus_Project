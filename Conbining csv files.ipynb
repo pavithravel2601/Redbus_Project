{
 "cells": [
  {
   "cell_type": "code",
   "execution_count": 2,
   "id": "00e597c8-32a9-4965-a62c-366ee415ad63",
   "metadata": {},
   "outputs": [
    {
     "name": "stdout",
     "output_type": "stream",
     "text": [
      "   ID               Route_Name  \\\n",
      "0   1  Vijayawada to Hyderabad   \n",
      "1   2  Vijayawada to Hyderabad   \n",
      "2   3  Vijayawada to Hyderabad   \n",
      "3   4  Vijayawada to Hyderabad   \n",
      "4   5  Vijayawada to Hyderabad   \n",
      "\n",
      "                                          Route_Link        Bus_Name  \\\n",
      "0  https://www.redbus.in/bus-tickets/vijayawada-t...   APSRTC - 9356   \n",
      "1  https://www.redbus.in/bus-tickets/vijayawada-t...   APSRTC - 3858   \n",
      "2  https://www.redbus.in/bus-tickets/vijayawada-t...  APSRTC - 35269   \n",
      "3  https://www.redbus.in/bus-tickets/vijayawada-t...   APSRTC - 3601   \n",
      "4  https://www.redbus.in/bus-tickets/vijayawada-t...   APSRTC - 3515   \n",
      "\n",
      "                                         Bus_Type Departing_Time Duration  \\\n",
      "0      Super Luxury (Non AC Seater 2+2 Push Back)          11:30  06h 35m   \n",
      "1  DOLPHIN CRUISE (VOLVO / SCANIA A.C Multi Axle)          11:30  05h 00m   \n",
      "2      AMARAVATHI (VOLVO / SCANIA A.C Multi Axle)          12:15  06h 10m   \n",
      "3      Super Luxury (Non AC Seater 2+2 Push Back)          12:30  08h 05m   \n",
      "4      Super Luxury (Non AC Seater 2+2 Push Back)          13:00  08h 00m   \n",
      "\n",
      "  Reaching_Time  Star_Rating    Price   Seat_Availability  \n",
      "0         18:05          4.0  INR 469  31 Seats available  \n",
      "1         16:30          3.7  INR 670  44 Seats available  \n",
      "2         18:25          3.7  INR 720  24 Seats available  \n",
      "3         20:35          2.5  INR 469  31 Seats available  \n",
      "4         21:00          2.0  INR 469  31 Seats available  \n"
     ]
    }
   ],
   "source": [
    "import pandas as pd\n",
    "\n",
    "# Load the combined DataFrame from the CSV\n",
    "csv_file_path = 'C:/Users/pavelkannan/Redbus_Project/combined_csv_file.csv'\n",
    "combined_df = pd.read_csv(csv_file_path)\n",
    "\n",
    "# Add an ID column (assuming there's no header issue)\n",
    "combined_df['ID'] = combined_df.index + 1\n",
    "\n",
    "# If there's a missing column header, let's rename columns explicitly\n",
    "columns = ['ID'] + list(combined_df.columns[1:])\n",
    "combined_df.columns = columns\n",
    "\n",
    "# Save the updated DataFrame back to a CSV\n",
    "combined_df.to_csv('C:/Users/pavelkannan/Redbus_Project/combined_csv_file_with_id.csv', index=False)\n",
    "\n",
    "# Display the updated DataFrame\n",
    "print(combined_df.head())\n"
   ]
  },
  {
   "cell_type": "code",
   "execution_count": 4,
   "id": "3f96740a-2aa7-4b03-9526-998da925c01c",
   "metadata": {},
   "outputs": [],
   "source": []
  },
  {
   "cell_type": "code",
   "execution_count": 5,
   "id": "e9b6365e-ad0c-4fc7-a308-54edd3e7079c",
   "metadata": {},
   "outputs": [],
   "source": []
  },
  {
   "cell_type": "code",
   "execution_count": 6,
   "id": "a2f951a9-2cd0-4485-b507-1a9bffb706a1",
   "metadata": {},
   "outputs": [],
   "source": []
  },
  {
   "cell_type": "code",
   "execution_count": 7,
   "id": "1a433f00-18bc-4d8a-b148-bcb0648fd471",
   "metadata": {},
   "outputs": [],
   "source": []
  },
  {
   "cell_type": "code",
   "execution_count": null,
   "id": "04b8365f-78b2-4bea-a1cf-0b2438aadc19",
   "metadata": {},
   "outputs": [],
   "source": []
  },
  {
   "cell_type": "code",
   "execution_count": null,
   "id": "b0b4c47e-005e-46a6-be2d-f790cab2ecf3",
   "metadata": {},
   "outputs": [],
   "source": []
  }
 ],
 "metadata": {
  "kernelspec": {
   "display_name": "Python 3 (ipykernel)",
   "language": "python",
   "name": "python3"
  },
  "language_info": {
   "codemirror_mode": {
    "name": "ipython",
    "version": 3
   },
   "file_extension": ".py",
   "mimetype": "text/x-python",
   "name": "python",
   "nbconvert_exporter": "python",
   "pygments_lexer": "ipython3",
   "version": "3.11.7"
  }
 },
 "nbformat": 4,
 "nbformat_minor": 5
}
