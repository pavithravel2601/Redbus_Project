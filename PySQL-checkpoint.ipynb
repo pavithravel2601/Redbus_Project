import pandas as pd
import pymysql

# Database connection
myconnection = pymysql.connect(
    host='127.0.0.1',
    user='root',
    passwd='12345678',
    database='Redbus_Project'
)

# Read and clean CSV data
df = pd.read_csv("bus_routes.csv")
df = df.dropna()  # Drop rows with null values

# Convert pandas dtypes to MySQL types
dtype_mapping = {
    'float64': 'FLOAT',
    'object': 'TEXT',
    'int64': 'INT'
}
column_definitions = ", ".join(
    f"{col} {dtype_mapping[str(dtype)]}" 
    for col, dtype in zip(df.columns, df.dtypes)
)

# Table name
table_name = "Busroutes"

# Create table if it does not exist
with myconnection.cursor() as cursor:
    cursor.execute(f"CREATE TABLE IF NOT EXISTS {table_name} ({column_definitions})")

# Insert data into table
insert_query = f"INSERT INTO {table_name} ({', '.join(df.columns)}) VALUES ({', '.join(['%s'] * len(df.columns))})"
with myconnection.cursor() as cursor:
    cursor.executemany(insert_query, df.values.tolist())
    myconnection.commit()

# Close the connection
myconnection.close()

print("Data inserted successfully")
